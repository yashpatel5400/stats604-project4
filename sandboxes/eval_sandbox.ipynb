{
 "cells": [
  {
   "cell_type": "code",
   "execution_count": 1,
   "id": "40e46cc3",
   "metadata": {},
   "outputs": [],
   "source": [
    "import sys\n",
    "sys.path.append(\"../\")\n",
    "sys.path.append(\"../../\")\n",
    "\n",
    "import os\n",
    "import datetime\n",
    "import pickle\n",
    "import pandas as pd\n",
    "import numpy as np\n",
    "import matplotlib.pyplot as plt\n",
    "\n",
    "from predictor.eval import prepare_full_eval_data, get_eval_task\n",
    "import predictor.utils as utils"
   ]
  },
  {
   "cell_type": "code",
   "execution_count": 2,
   "id": "107345d5",
   "metadata": {},
   "outputs": [],
   "source": [
    "start_eval_str = \"2021-10-01\" # when eval period starts (must follow %Y-%m-%d format)\n",
    "start_eval_date = datetime.datetime.strptime(start_eval_str, \"%Y-%m-%d\") \n",
    "eval_len = 10 # how many days we running evaluation for"
   ]
  },
  {
   "cell_type": "code",
   "execution_count": 3,
   "id": "5e452f73",
   "metadata": {},
   "outputs": [],
   "source": [
    "full_eval_data = prepare_full_eval_data(start_eval_date, eval_len)\n",
    "\n",
    "day_offset = 1 # one day from our starting\n",
    "prediction_date = start_eval_date + datetime.timedelta(days=day_offset)\n",
    "eval_data, eval_target = get_eval_task(full_eval_data, prediction_date)"
   ]
  },
  {
   "cell_type": "code",
   "execution_count": 4,
   "id": "a2cadd64",
   "metadata": {},
   "outputs": [],
   "source": [
    "station = \"PANC\"\n",
    "latlon = utils.fetch_latlon(station)\n",
    "station_data = eval_data[station]"
   ]
  },
  {
   "cell_type": "code",
   "execution_count": 5,
   "id": "a22893cc",
   "metadata": {},
   "outputs": [
    {
     "data": {
      "text/plain": [
       "34"
      ]
     },
     "execution_count": 5,
     "metadata": {},
     "output_type": "execute_result"
    }
   ],
   "source": [
    "station_data[\"wunderground\"][\"temp\"].iloc[0]"
   ]
  },
  {
   "cell_type": "code",
   "execution_count": 6,
   "id": "bb6d94a5",
   "metadata": {},
   "outputs": [],
   "source": [
    "stations_lat_lon = dict(zip(utils.stations, [utils.fetch_latlon(station) for station in utils.stations]))"
   ]
  },
  {
   "cell_type": "code",
   "execution_count": null,
   "id": "70eae91a",
   "metadata": {},
   "outputs": [],
   "source": []
  }
 ],
 "metadata": {
  "kernelspec": {
   "display_name": "Python 3 (ipykernel)",
   "language": "python",
   "name": "python3"
  },
  "language_info": {
   "codemirror_mode": {
    "name": "ipython",
    "version": 3
   },
   "file_extension": ".py",
   "mimetype": "text/x-python",
   "name": "python",
   "nbconvert_exporter": "python",
   "pygments_lexer": "ipython3",
   "version": "3.8.13"
  },
  "vscode": {
   "interpreter": {
    "hash": "97f4452dae6bdba237fd800176b85e526041526e1433dfb6b82689f83ea463b6"
   }
  }
 },
 "nbformat": 4,
 "nbformat_minor": 5
}
